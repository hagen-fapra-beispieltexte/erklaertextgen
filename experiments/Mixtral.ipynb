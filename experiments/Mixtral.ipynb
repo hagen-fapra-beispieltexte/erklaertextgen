{
 "cells": [
  {
   "cell_type": "code",
   "execution_count": 29,
   "id": "cf58f130-9fb4-425e-b18c-27981061e66f",
   "metadata": {},
   "outputs": [
    {
     "name": "stdout",
     "output_type": "stream",
     "text": [
      " Warum haben Schlangen immer ein Lächeln auf den Lippen?\n",
      "Weil sie vor Glück schlafen.\n",
      "\n",
      "(Hoffentlich hat dir dieser Witz ein Lächeln ins Gesicht gezaubert!)\n"
     ]
    }
   ],
   "source": [
    "from langchain_community.llms import Ollama\n",
    "llm = Ollama(base_url=\"http://132.176.10.80\", model=\"mixtral\")\n",
    "print(llm.invoke(\"Erzähl mir einen Witz\")) \n"
   ]
  },
  {
   "cell_type": "code",
   "execution_count": 44,
   "id": "0afd858b-c37d-41d5-ac7f-768609ba7828",
   "metadata": {},
   "outputs": [
    {
     "name": "stdout",
     "output_type": "stream",
     "text": [
      " Ninjango is not a real word in English, but it seems like it might be a combination of the words \"Ninja\" and \"Angelo.\"\n",
      "\n",
      "A ninja is a person who was trained in ancient Japanese martial arts, stealth, and espionage. They were skilled in fighting and could move quietly and quickly to avoid detection. In modern times, the term \"ninja\" is often used to describe someone who is very skillful or excels in a particular area.\n",
      "\n",
      "Angelo is an Italian name that means \"messenger of God.\" It can also be a word used to describe something that is related to or inspired by Italy or its culture.\n",
      "\n",
      "So, if we put these two words together, \"Ninjango\" could mean a skilled and stealthy person who delivers messages or represents Italian culture. However, this is just a made-up word and does not have an official meaning in English.\n",
      "\n",
      "It's always fun to create new words and imagine what they might mean! Do you have any other made-up words that you would like me to explain?\n"
     ]
    }
   ],
   "source": [
    "#Beispiel für einen einfachen Prompt \n",
    "def generate_text(keywords, level):\n",
    "    prompt = f\"Erstelle einen Text auf Englisch, basierend auf den Schlüsselwörtern {keywords}, angepasst an das Sprachniveau {level}.\"\n",
    "    response = llm.invoke(prompt)\n",
    "    return response\n",
    "\n",
    "# Beispiel für die Nutzung der Funktion\n",
    "keywords = [\"Ninjango\"]\n",
    "level = \"A1\"\n",
    "text = generate_text(keywords, level)\n",
    "print(text)"
   ]
  },
  {
   "cell_type": "code",
   "execution_count": 50,
   "id": "2ab3b27d-1888-463c-99a5-3b482903675a",
   "metadata": {},
   "outputs": [
    {
     "name": "stdout",
     "output_type": "stream",
     "text": [
      " Sure, here's a short story in simple present tense that combines the themes of music and sports, suitable for English learners at A1 level and children aged 8-10:\n",
      "\n",
      "Sam's Family Loves Music and Sports\n",
      "\n",
      "Sam's family is very active. They love playing sports and making music together. Every Saturday, they go to the park to play soccer. Sam's dad is a good player. He teaches Sam and his sister how to kick the ball and score goals.\n",
      "\n",
      "In the evening, the family plays musical instruments. Sam's mom plays the piano, and Sam plays the guitar. They like to sing songs together. Sometimes they make up their own songs about their weekends and adventures.\n",
      "\n",
      "During the summer, Sam's family goes on vacation to the beach. They bring their soccer ball and musical instruments with them. They play soccer on the sand and make music under the stars. Sam loves to listen to the sound of the waves while his family plays music.\n",
      "\n",
      "At home, Sam's family has a tradition. Every Sunday, they have a jam session. They invite their neighbors and friends to join them. They all bring their instruments and sing together. It's a lot of fun!\n",
      "\n",
      "Sam is lucky to have a family that loves music and sports. He learns many things from his parents and sister. He enjoys spending time with them and creating beautiful memories.\n"
     ]
    }
   ],
   "source": [
    "#Chain of Thought\n",
    "from langchain_community.llms import Ollama\n",
    "\n",
    "llm = Ollama(base_url=\"http://132.176.10.80\", model=\"mixtral\")\n",
    "\n",
    "# Funktion, um einen CoT-basierten Text zu generieren\n",
    "def generate_cot_text(themes):\n",
    "    prompt = (\n",
    "        f\"Wir wollen einen Text für Englischlerner auf dem Niveau A1 erstellen, basierend auf den Themen {themes}. \"\n",
    "        \"Anfänger auf diesem Niveau verstehen einfache Sätze und grundlegende Vokabeln. Sie haben ein A1-Niveau\"\n",
    "        \"Überlege zunächst eine kurze Geschichte, die für Kinder von 8 - 10 Jahren geeignet ist. \"\n",
    "        \"Die Geschichte ist im Präsenz geschrieben simple present. Die Sätze sind kurz.\"\n",
    "        \"Schreibe eine Geschichte aus dem Schul-, Familien- oder Ferienkontext zu diesem Wort.\"\n",
    "    )\n",
    "    response = llm.invoke(prompt)\n",
    "    return response\n",
    "\n",
    "# Text generieren und ausgeben\n",
    "themes = \"Musik und Sport\"  # Beispielthemen\n",
    "text = generate_cot_text(themes)\n",
    "print(text)\n"
   ]
  },
  {
   "cell_type": "code",
   "execution_count": 52,
   "id": "c1313645-a805-4d7c-a45a-a28a124aee5d",
   "metadata": {},
   "outputs": [
    {
     "name": "stdout",
     "output_type": "stream",
     "text": [
      " Englisch A1 Beispiel: Hello, I am a Finnish boy and my name is Miko. I am 9 years old and I live in Helsinki. Have you ever been to Finland? It's a beautiful country with many lakes and forests. In my family, there are four members: my mom, dad, my older sister and me. I am the youngest one, so everyone says that I'm cute and have curly brown hair and green eyes. My parents are really kind, but sometimes they scold me when I don't follow the rules.\n",
      "\n",
      "I love music, all kinds of it! At home, we have a piano and I practice playing every day for one hour after school. It helps me to relax and concentrate better. I also like to sing and dance. My favorite singer is Taylor Swift. I learn her songs by heart and perform them in front of my family. They always clap and cheer for me, it's so much fun!\n",
      "\n",
      "I go to the third grade in a local school. The teachers are nice and help us to learn new things every day. My favorite subject is music, of course! We also have art class where we can draw and paint. I like to express myself through colors and shapes.\n",
      "\n",
      "My daily routine is quite simple. I wake up at seven o'clock, have breakfast with my family, then go to school by bus. After school, I come home, have lunch and practice piano. In the afternoon, I play with my friends or watch cartoons. For dinner, we have a warm meal together and then I take a bath and go to bed at eight o'clock. Before sleeping, I read a book or listen to an audiobook.\n",
      "\n",
      "On weekends, I usually visit my grandparents who live in the countryside. They have a big garden where I can play and help them with gardening. In the evening, we sit together and listen to music or watch movies. It's always a great time!\n"
     ]
    }
   ],
   "source": [
    "#One Shot Learning \n",
    "example_text = \"\"\"\n",
    "Englisch A1 Beispiel: I am a Spanish little girl. Helen is my name and I am 8 years old. I live in Barcelona. I don't know if you have ever been here. This is a very nice city. There are important monuments and a Gothic Cathedral. I have two brothers, Tony and Eduardo. I am the youngest in my family so people think I am beautiful and my hair is blond and my eyes are blue. Marina is my mom and Julio is my dad. There are good parents although sometimes they punish me when my behaviour isn't correct. I go to a primary school. The teachers are friendly and teach us useful material. Geography is my favourite subject and I also like English because it's important to speak a foreign language. Lessons start at nine o'clock and finish at five. We have lunch at the canteen. They prepare good vegetables and fish or meat. We eat fruit every day but we never have ice cream or cakes. At home I have dinner with my parents and my brothers. I always go to bed at ten o'clock. I usually read a book or talk to my mom. Tomorrow is Saturday and my parents are going to take us to the cinema. I love movies.\n",
    "\"\"\"\n",
    "\n",
    "# Funktion, um auf der Basis von One Shot Learning einen neuen Text zu generieren\n",
    "def generate_a1_text(themes):\n",
    "    # Konstruktion des Prompts mit dem Beispieltext und den gegebenen Themen\n",
    "    prompt = f\"\"\"\n",
    "    Hier ist ein Beispiel eines Englischtexts auf A1-Niveau:\n",
    "    {example_text}\n",
    "    Erstelle einen weiteren Text auf A1-Niveau, der sich um das tägliche Leben eines Kindes dreht, das {themes} mag.\n",
    "    \"\"\"\n",
    "    # Aufruf der Funktion des LLM, um einen neuen Text zu generieren\n",
    "    response = llm.invoke(prompt)\n",
    "    return response\n",
    "\n",
    "# Text generieren und ausgeben, indem ein Thema spezifiziert wird\n",
    "themes = \"Musik\"\n",
    "new_text = generate_a1_text(themes)\n",
    "print(new_text)"
   ]
  },
  {
   "cell_type": "code",
   "execution_count": 56,
   "id": "a7d06e0e-efae-401f-b580-01310cef46bf",
   "metadata": {},
   "outputs": [
    {
     "name": "stdout",
     "output_type": "stream",
     "text": [
      " Original text:\n",
      "\n",
      "Tommy loves football! After school, he rushes to the field. He practices every day. His friends join him too. They play until sunset. Sometimes, they score goals. Other times, they miss. But they never give up! Tommy dreams of being a professional player one day.\n",
      "\n",
      "Analysis:\n",
      "\n",
      "1. The text is appropriate for A1 level as it uses simple vocabulary and sentence structures. However, some sentences are relatively long which could be challenging for beginners.\n",
      "2. Positive aspects include the use of repetition (loves, practices, they play), common verbs (rushes, practices, join), and clear topic progression. A negative aspect is that some words might not be familiar to absolute beginners (e.g., rushes, sunset).\n",
      "3. To make it more accessible for A1 learners:\n",
      "   - Replace \"rushes\" with \"runs quickly\".\n",
      "   - Replace \"his friends join him\" with \"his friends come too\".\n",
      "   - Change \"score goals\" to \"kick the ball into the goal\".\n",
      "   - Rewrite the last sentence as two sentences: \"Tommy has a big dream. He wants to be a professional player one day.\"\n",
      "4. Revised text:\n",
      "\n",
      "Tommy loves football! After school, he runs quickly to the field. He practices every day. His friends come too. They play until the sun goes down. Sometimes, they kick the ball into the goal. Other times, they miss. But they never give up! Tommy has a big dream. He wants to be a professional player one day.\n",
      "\n",
      "Revised character count: 250\n"
     ]
    }
   ],
   "source": [
    "#Meta Learning\n",
    "# Erstellen einer Instanz des Ollama LLM\n",
    "llm = Ollama(base_url=\"http://132.176.10.80\", model=\"mixtral\")\n",
    "\n",
    "# Schlüsselwort, das als Basis für den Text dient\n",
    "keyword = \"Fußball\"\n",
    "\n",
    "# Meta-Learning Prompt\n",
    "prompt = f\"\"\"\n",
    "Erstelle zunächst einen kurzen Text auf Englisch A1-Niveau, der das Wort '{keyword}' verwendet und sich an junge Lernende richtet. Der Text sollte eine einfache Geschichte aus dem Alltag eines Kindes erzählen, das Fußball liebt. Die Länge ist 250 Zeichen.\n",
    "\n",
    "Nachdem du den Text erstellt hast, analysiere ihn:\n",
    "1. Beurteile, ob der Text angemessen für A1-Niveau ist.\n",
    "2. Überlege, welche sprachlichen Elemente gut umgesetzt sind und welche noch verbessert werden könnten.\n",
    "3. Gib konkrete Vorschläge, wie der Text angepasst werden könnte, um ihn verständlicher und lehrreicher zu machen.\n",
    "4. Passe den Text an und gib ihn erneut aus mit 250 Zeichen\n",
    "\"\"\"\n",
    "\n",
    "# Aufruf der Funktion des LLM, um den Text und die Meta-Analyse zu generieren\n",
    "response = llm.invoke(prompt)\n",
    "print(response)"
   ]
  },
  {
   "cell_type": "code",
   "execution_count": 57,
   "id": "cc708758-690d-41f2-81d4-107bc15f59f0",
   "metadata": {},
   "outputs": [
    {
     "name": "stdout",
     "output_type": "stream",
     "text": [
      " Title: A Young Guitarist\n",
      "\n",
      "Meet Jamie, a happy and energetic 7-year-old who loves playing the guitar! Jamie's journey with music began when they found an old, unused guitar in their attic. From that day on, Jamie was fascinated by the instrument and wanted to learn how to play it.\n",
      "\n",
      "Jamie's parents noticed their child's interest and decided to enroll them in a local music school. There, Jamie learned the basics of playing the guitar, such as how to hold it correctly, how to strum, and how to read sheet music.\n",
      "\n",
      "At first, it was a bit challenging for Jamie to coordinate their fingers and hands while playing, but they were determined to keep trying. With practice and patience, Jamie improved quickly and started to play simple songs.\n",
      "\n",
      "Now, Jamie spends hours each day practicing and playing the guitar. They enjoy playing different styles of music, from classical pieces to modern pop songs. Jamie's favorite part about playing the guitar is sharing their music with others. They often perform for their family and friends, who are always impressed by Jamie's skills and passion.\n",
      "\n",
      "Jamie hopes to become a professional guitarist one day and inspire others to learn music as well. With their dedication and love for playing the guitar, there's no doubt that Jamie will achieve their dream!\n"
     ]
    }
   ],
   "source": [
    "#Few shot learning\n",
    "examples = [\n",
    "    \"I have a cat. The cat is small and white.\",\n",
    "    \"She has a red bicycle. She rides her bicycle to the park.\",\n",
    "    \"He likes to eat apples. He eats an apple every day.\"\n",
    "]\n",
    "\n",
    "# Schlüsselwort, das der Benutzer angeben kann\n",
    "keyword = \"guitar\"\n",
    "\n",
    "# Few-Shot Prompt\n",
    "prompt = f\"Based on these examples, create a new text for A1 level students about a child who loves playing the {keyword}.\"\n",
    "\n",
    "# Erstellen eines neuen Textes\n",
    "response = llm.invoke(prompt)\n",
    "print(response)\n"
   ]
  },
  {
   "cell_type": "code",
   "execution_count": 59,
   "id": "59d89769-f505-4ba8-9fee-702254996e15",
   "metadata": {},
   "outputs": [
    {
     "name": "stdout",
     "output_type": "stream",
     "text": [
      " A day in the life of a child who loves guitar might look like this:\n",
      "\n",
      "In the morning, the child wakes up and the first thing they do is reach for their guitar, which they keep next to their bed. They strum a few chords and play their favorite songs to start the day off right.\n",
      "\n",
      "After breakfast, they spend some time practicing their guitar skills. They work on perfecting difficult chords, learning new songs, and writing their own music. They make sure to take breaks every now and then to avoid getting tired or losing focus.\n",
      "\n",
      "In the afternoon, the child continues to practice their guitar. They might also watch videos online to learn new techniques and get inspiration for their own music. They may also join a guitar class or group lesson to learn from a teacher and other students.\n",
      "\n",
      "In the evening, the child sets aside some time to relax and play their guitar for fun. They might play songs that they've been working on, or just strum and sing along to their favorite tunes. Before bed, they put their guitar away in its case, ready to start another day of music-making tomorrow.  Sure! If the keyword is \"reading,\" here are some activities a child might do at school:\n",
      "\n",
      "1. Listening to a story being read aloud by the teacher.\n",
      "2. Reading a book or a passage from a textbook on their own.\n",
      "3. Participating in group reading sessions where students take turns reading out loud.\n",
      "4. Answering comprehension questions related to what they have read.\n",
      "5. Writing summaries or essays about the books they have read.\n",
      "6. Discussing and sharing opinions about books with classmates.\n",
      "7. Researching topics by reading various sources and taking notes.\n",
      "8. Playing word games, such as crossword puzzles or vocabulary building activities.\n",
      "9. Using computers to access online resources for research or educational games.\n",
      "10. Participating in book clubs or reading challenges to encourage a love of reading.\n",
      "\n",
      "These are just a few examples of how reading is integrated into the school day. Reading skills are essential for learning across all subjects, so it's important that students have plenty of opportunities to practice and develop their reading abilities.  After a long day at school, the child came home eager to relax. The first thing they did was change into their comfortable clothes, their favorite t-shirt and sweatpants. They then headed straight to the kitchen for a snack.\n",
      "\n",
      "Their mom had prepared a fresh batch of cookies, still warm from the oven. The child's eyes lit up as they smelled the sweet aroma. They took a seat at the kitchen table and enjoyed their treat while chatting with their mom about their day.\n",
      "\n",
      "Once their hunger was satisfied, the child headed to their room to unwind. They turned on their favorite music and started to tidy up their space. Putting away toys and books, they created a cozy atmosphere for the evening ahead.\n",
      "\n",
      "Next, it was time for some creativity. The child loved to draw and paint, so they set up their art supplies at their desk. They spent hours lost in their imagination, creating beautiful pieces of artwork that they would treasure forever.\n",
      "\n",
      "As the night drew to a close, the child decided to wind down with a good book. They climbed into bed, snuggled under their blankets, and began to read. The words transported them to far-off lands and magical worlds, filling their head with wonder and excitement.\n",
      "\n",
      "Before they knew it, it was time for sleep. The child turned off the light, closed their eyes, and drifted off into a peaceful slumber, dreaming of all the adventures that awaited them the next day. And so ended another happy day at home for the child, filled with warmth, love, and creativity.\n"
     ]
    }
   ],
   "source": [
    "# Prompt Chaining \n",
    "keyword = \"guitar\"\n",
    "# Initialer Prompt, der das Thema einführt\n",
    "prompt1 = f\"Describe a day in the life of a child who loves {keyword}. Start with what they do in the morning. Use simple English\"\n",
    "\n",
    "# Zweiter Prompt, basierend auf der Antwort des ersten\n",
    "prompt2 = \"Now, explain what activities the child does at school related to the keyword.Use simple English\"\n",
    "\n",
    "# Dritter Prompt, der den Tag abschließt\n",
    "prompt3 = \"Finish the story by describing the child's evening activities involving the keyword at home.Use simple English\"\n",
    "\n",
    "# Abfolge der Prompt-Aufrufe\n",
    "response1 = llm.invoke(prompt1)\n",
    "response2 = llm.invoke(prompt2)\n",
    "response3 = llm.invoke(prompt3)\n",
    "\n",
    "# Ausgabe der gesamten Geschichte\n",
    "print(response1, response2, response3)"
   ]
  },
  {
   "cell_type": "code",
   "execution_count": null,
   "id": "529107dc-0866-4825-a905-b80181ccbc09",
   "metadata": {},
   "outputs": [],
   "source": []
  }
 ],
 "metadata": {
  "kernelspec": {
   "display_name": "Python 3 (ipykernel)",
   "language": "python",
   "name": "python3"
  },
  "language_info": {
   "codemirror_mode": {
    "name": "ipython",
    "version": 3
   },
   "file_extension": ".py",
   "mimetype": "text/x-python",
   "name": "python",
   "nbconvert_exporter": "python",
   "pygments_lexer": "ipython3",
   "version": "3.9.18"
  }
 },
 "nbformat": 4,
 "nbformat_minor": 5
}
